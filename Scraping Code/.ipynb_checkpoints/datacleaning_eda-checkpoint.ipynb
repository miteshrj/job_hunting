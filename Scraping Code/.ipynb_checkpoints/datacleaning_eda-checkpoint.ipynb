{
 "cells": [
  {
   "cell_type": "code",
   "execution_count": 1,
   "metadata": {},
   "outputs": [],
   "source": [
    "import pandas as pd\n",
    "import numpy as np"
   ]
  },
  {
   "cell_type": "code",
   "execution_count": 2,
   "metadata": {},
   "outputs": [],
   "source": [
    "h1b_data = pd.read_excel('h1bdata.xlsx')"
   ]
  },
  {
   "cell_type": "code",
   "execution_count": 3,
   "metadata": {},
   "outputs": [
    {
     "data": {
      "text/html": [
       "<div>\n",
       "<style scoped>\n",
       "    .dataframe tbody tr th:only-of-type {\n",
       "        vertical-align: middle;\n",
       "    }\n",
       "\n",
       "    .dataframe tbody tr th {\n",
       "        vertical-align: top;\n",
       "    }\n",
       "\n",
       "    .dataframe thead th {\n",
       "        text-align: right;\n",
       "    }\n",
       "</style>\n",
       "<table border=\"1\" class=\"dataframe\">\n",
       "  <thead>\n",
       "    <tr style=\"text-align: right;\">\n",
       "      <th></th>\n",
       "      <th>Sr.No.</th>\n",
       "      <th>EMPLOYER</th>\n",
       "      <th>JOB TITLE</th>\n",
       "      <th>BASE SALARY</th>\n",
       "      <th>LOCATION</th>\n",
       "      <th>SUBMIT DATE</th>\n",
       "      <th>START DATE</th>\n",
       "      <th>CASE STATUS</th>\n",
       "    </tr>\n",
       "  </thead>\n",
       "  <tbody>\n",
       "    <tr>\n",
       "      <td>0</td>\n",
       "      <td>1</td>\n",
       "      <td>SEGMENTIO INC</td>\n",
       "      <td>DATA SCIENCE</td>\n",
       "      <td>170000</td>\n",
       "      <td>SAN FRANCISCO, CA</td>\n",
       "      <td>04/23/2019</td>\n",
       "      <td>06/10/2019</td>\n",
       "      <td>CERTIFIED</td>\n",
       "    </tr>\n",
       "    <tr>\n",
       "      <td>1</td>\n",
       "      <td>2</td>\n",
       "      <td>BELK INC</td>\n",
       "      <td>DATA SCIENCE &amp; FORECAST ANALYST</td>\n",
       "      <td>82000</td>\n",
       "      <td>CHARLOTTE, NC</td>\n",
       "      <td>03/07/2019</td>\n",
       "      <td>09/03/2019</td>\n",
       "      <td>CERTIFIED</td>\n",
       "    </tr>\n",
       "    <tr>\n",
       "      <td>2</td>\n",
       "      <td>3</td>\n",
       "      <td>MICRON TECHNOLOGY INC</td>\n",
       "      <td>DATA SCIENCE &amp; PROCESS CONTROLS ENGINEERING PR...</td>\n",
       "      <td>88230</td>\n",
       "      <td>BOISE, ID</td>\n",
       "      <td>02/22/2019</td>\n",
       "      <td>08/22/2019</td>\n",
       "      <td>CERTIFIED</td>\n",
       "    </tr>\n",
       "    <tr>\n",
       "      <td>3</td>\n",
       "      <td>4</td>\n",
       "      <td>LIVE NATION WORLDWIDE INC</td>\n",
       "      <td>DATA SCIENCE - SENIOR ENGINEER</td>\n",
       "      <td>124738</td>\n",
       "      <td>HOLLYWOOD, CA</td>\n",
       "      <td>08/09/2019</td>\n",
       "      <td>09/04/2019</td>\n",
       "      <td>CERTIFIED</td>\n",
       "    </tr>\n",
       "    <tr>\n",
       "      <td>4</td>\n",
       "      <td>5</td>\n",
       "      <td>FEDEX CUSTOM CRITICAL INC</td>\n",
       "      <td>DATA SCIENCE ADVISOR</td>\n",
       "      <td>87000</td>\n",
       "      <td>UNIONTOWN, OH</td>\n",
       "      <td>03/13/2019</td>\n",
       "      <td>09/11/2019</td>\n",
       "      <td>CERTIFIED</td>\n",
       "    </tr>\n",
       "  </tbody>\n",
       "</table>\n",
       "</div>"
      ],
      "text/plain": [
       "   Sr.No.                   EMPLOYER  \\\n",
       "0       1              SEGMENTIO INC   \n",
       "1       2                   BELK INC   \n",
       "2       3      MICRON TECHNOLOGY INC   \n",
       "3       4  LIVE NATION WORLDWIDE INC   \n",
       "4       5  FEDEX CUSTOM CRITICAL INC   \n",
       "\n",
       "                                           JOB TITLE  BASE SALARY  \\\n",
       "0                                       DATA SCIENCE       170000   \n",
       "1                    DATA SCIENCE & FORECAST ANALYST        82000   \n",
       "2  DATA SCIENCE & PROCESS CONTROLS ENGINEERING PR...        88230   \n",
       "3                     DATA SCIENCE - SENIOR ENGINEER       124738   \n",
       "4                               DATA SCIENCE ADVISOR        87000   \n",
       "\n",
       "            LOCATION SUBMIT DATE  START DATE CASE STATUS  \n",
       "0  SAN FRANCISCO, CA  04/23/2019  06/10/2019   CERTIFIED  \n",
       "1      CHARLOTTE, NC  03/07/2019  09/03/2019   CERTIFIED  \n",
       "2          BOISE, ID  02/22/2019  08/22/2019   CERTIFIED  \n",
       "3      HOLLYWOOD, CA  08/09/2019  09/04/2019   CERTIFIED  \n",
       "4      UNIONTOWN, OH  03/13/2019  09/11/2019   CERTIFIED  "
      ]
     },
     "execution_count": 3,
     "metadata": {},
     "output_type": "execute_result"
    }
   ],
   "source": [
    "h1b_data.head()"
   ]
  },
  {
   "cell_type": "code",
   "execution_count": 4,
   "metadata": {},
   "outputs": [
    {
     "name": "stdout",
     "output_type": "stream",
     "text": [
      "<class 'pandas.core.frame.DataFrame'>\n",
      "RangeIndex: 56038 entries, 0 to 56037\n",
      "Data columns (total 8 columns):\n",
      "Sr.No.         56038 non-null int64\n",
      "EMPLOYER       56037 non-null object\n",
      "JOB TITLE      56038 non-null object\n",
      "BASE SALARY    56038 non-null int64\n",
      "LOCATION       56038 non-null object\n",
      "SUBMIT DATE    56038 non-null object\n",
      "START DATE     56038 non-null object\n",
      "CASE STATUS    56038 non-null object\n",
      "dtypes: int64(2), object(6)\n",
      "memory usage: 3.4+ MB\n"
     ]
    }
   ],
   "source": [
    "h1b_data.info()"
   ]
  },
  {
   "cell_type": "code",
   "execution_count": 6,
   "metadata": {},
   "outputs": [],
   "source": [
    "company_list = h1b_data['EMPLOYER'].unique()"
   ]
  },
  {
   "cell_type": "code",
   "execution_count": 9,
   "metadata": {},
   "outputs": [
    {
     "data": {
      "text/plain": [
       "10113"
      ]
     },
     "execution_count": 9,
     "metadata": {},
     "output_type": "execute_result"
    }
   ],
   "source": [
    "len(company_list)"
   ]
  },
  {
   "cell_type": "code",
   "execution_count": 10,
   "metadata": {},
   "outputs": [],
   "source": [
    "sf_companies = h1b_data[h1b_data['LOCATION'] == 'SAN FRANCISCO, CA']"
   ]
  },
  {
   "cell_type": "code",
   "execution_count": 12,
   "metadata": {},
   "outputs": [
    {
     "data": {
      "text/plain": [
       "570"
      ]
     },
     "execution_count": 12,
     "metadata": {},
     "output_type": "execute_result"
    }
   ],
   "source": [
    "len(sf_companies['EMPLOYER'].unique())"
   ]
  }
 ],
 "metadata": {
  "kernelspec": {
   "display_name": "Python 3",
   "language": "python",
   "name": "python3"
  },
  "language_info": {
   "codemirror_mode": {
    "name": "ipython",
    "version": 3
   },
   "file_extension": ".py",
   "mimetype": "text/x-python",
   "name": "python",
   "nbconvert_exporter": "python",
   "pygments_lexer": "ipython3",
   "version": "3.7.4"
  }
 },
 "nbformat": 4,
 "nbformat_minor": 2
}
