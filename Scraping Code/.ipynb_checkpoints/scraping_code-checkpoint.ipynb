{
 "cells": [
  {
   "cell_type": "markdown",
   "metadata": {},
   "source": [
    "# <CENTER>Code for web scraping and getting the required data from the webpages and saving it to MySQL</CENTER>\n",
    "<hr>"
   ]
  },
  {
   "cell_type": "markdown",
   "metadata": {},
   "source": [
    "### Importing libraries"
   ]
  },
  {
   "cell_type": "code",
   "execution_count": 1,
   "metadata": {},
   "outputs": [],
   "source": [
    "import requests\n",
    "import time\n",
    "from bs4 import BeautifulSoup\n",
    "import re\n",
    "import pandas as pd\n",
    "from sqlalchemy import create_engine\n",
    "import pymysql\n",
    "import warnings\n",
    "import mysql.connector"
   ]
  },
  {
   "cell_type": "markdown",
   "metadata": {},
   "source": [
    "### Jobs to be scarped list"
   ]
  },
  {
   "cell_type": "markdown",
   "metadata": {},
   "source": [
    "We have used \"Data+Sc\", \"Data+Ana\", \"Business+Ana\" becasue they encompass all the required positions such as 'Data Scientist', 'Data Scientist 1', 'Data Scientist Ii', for \"Data+Sc\"."
   ]
  },
  {
   "cell_type": "code",
   "execution_count": 2,
   "metadata": {},
   "outputs": [],
   "source": [
    "job_titles = (\"Data+Sc\", \"Data+Ana\", \"Business+Ana\")"
   ]
  },
  {
   "cell_type": "markdown",
   "metadata": {},
   "source": [
    "### Years to be scraped list"
   ]
  },
  {
   "cell_type": "code",
   "execution_count": 3,
   "metadata": {},
   "outputs": [],
   "source": [
    "year_list = (\"2019\", \"2018\", \"2017\", \"2016\", \"2015\")"
   ]
  },
  {
   "cell_type": "markdown",
   "metadata": {},
   "source": [
    "### Loop to download the required pages for 5 years and 3 job titles"
   ]
  },
  {
   "cell_type": "code",
   "execution_count": 4,
   "metadata": {},
   "outputs": [
    {
     "name": "stdout",
     "output_type": "stream",
     "text": [
      "Data+Sc, 2019\n",
      "Search page :https://h1bdata.info/index.php?em=&job=Data+Sc&city=&year=2019\n",
      "Saved as file: Data+Sc_2019.htm\n",
      "\n",
      "\n",
      "Data+Sc, 2018\n",
      "Search page :https://h1bdata.info/index.php?em=&job=Data+Sc&city=&year=2018\n",
      "Saved as file: Data+Sc_2018.htm\n",
      "\n",
      "\n",
      "Data+Sc, 2017\n",
      "Search page :https://h1bdata.info/index.php?em=&job=Data+Sc&city=&year=2017\n",
      "Saved as file: Data+Sc_2017.htm\n",
      "\n",
      "\n",
      "Data+Sc, 2016\n",
      "Search page :https://h1bdata.info/index.php?em=&job=Data+Sc&city=&year=2016\n",
      "Saved as file: Data+Sc_2016.htm\n",
      "\n",
      "\n",
      "Data+Sc, 2015\n",
      "Search page :https://h1bdata.info/index.php?em=&job=Data+Sc&city=&year=2015\n",
      "Saved as file: Data+Sc_2015.htm\n",
      "\n",
      "\n",
      "Data+Ana, 2019\n",
      "Search page :https://h1bdata.info/index.php?em=&job=Data+Ana&city=&year=2019\n",
      "Saved as file: Data+Ana_2019.htm\n",
      "\n",
      "\n",
      "Data+Ana, 2018\n",
      "Search page :https://h1bdata.info/index.php?em=&job=Data+Ana&city=&year=2018\n",
      "Saved as file: Data+Ana_2018.htm\n",
      "\n",
      "\n",
      "Data+Ana, 2017\n",
      "Search page :https://h1bdata.info/index.php?em=&job=Data+Ana&city=&year=2017\n",
      "Saved as file: Data+Ana_2017.htm\n",
      "\n",
      "\n",
      "Data+Ana, 2016\n",
      "Search page :https://h1bdata.info/index.php?em=&job=Data+Ana&city=&year=2016\n",
      "Saved as file: Data+Ana_2016.htm\n",
      "\n",
      "\n",
      "Data+Ana, 2015\n",
      "Search page :https://h1bdata.info/index.php?em=&job=Data+Ana&city=&year=2015\n",
      "Saved as file: Data+Ana_2015.htm\n",
      "\n",
      "\n",
      "Business+Ana, 2019\n",
      "Search page :https://h1bdata.info/index.php?em=&job=Business+Ana&city=&year=2019\n",
      "Saved as file: Business+Ana_2019.htm\n",
      "\n",
      "\n",
      "Business+Ana, 2018\n",
      "Search page :https://h1bdata.info/index.php?em=&job=Business+Ana&city=&year=2018\n",
      "Saved as file: Business+Ana_2018.htm\n",
      "\n",
      "\n",
      "Business+Ana, 2017\n",
      "Search page :https://h1bdata.info/index.php?em=&job=Business+Ana&city=&year=2017\n",
      "Saved as file: Business+Ana_2017.htm\n",
      "\n",
      "\n",
      "Business+Ana, 2016\n",
      "Search page :https://h1bdata.info/index.php?em=&job=Business+Ana&city=&year=2016\n",
      "Saved as file: Business+Ana_2016.htm\n",
      "\n",
      "\n",
      "Business+Ana, 2015\n",
      "Search page :https://h1bdata.info/index.php?em=&job=Business+Ana&city=&year=2015\n",
      "Saved as file: Business+Ana_2015.htm\n",
      "\n",
      "\n"
     ]
    }
   ],
   "source": [
    "for title in job_titles :\n",
    "    \n",
    "    for year in year_list :\n",
    "        print(title+\", \"+year)\n",
    "    \n",
    "    ## Setting the url code to save for the title and the year\n",
    "        url = \"https://h1bdata.info/index.php?em=&job=\"+title+\"&city=&year=\"+year\n",
    "\n",
    "        source = requests.get(url, headers = {'user-agent':'Mozilla/5.0'})\n",
    "        file_name = title+\"_\"+year+\".htm\"\n",
    "        save_file = open(file_name, \"wb\")\n",
    "        save_file.write(source.content)\n",
    "        save_file.close()\n",
    "\n",
    "        print(\"Search page :\"+url+\"\\nSaved as file: \"+file_name+\"\\n\\n\")\n",
    "\n",
    "        ## The for loop pauses or sleeps for 10 seconds to mimic human interaction with the website\n",
    "        time.sleep(10)"
   ]
  },
  {
   "cell_type": "markdown",
   "metadata": {},
   "source": [
    "## Code to read the table from the saved files and save it into a DataFrame."
   ]
  },
  {
   "cell_type": "code",
   "execution_count": 11,
   "metadata": {},
   "outputs": [],
   "source": [
    "## Creating an empty dataframe to which we will keep appending the data\n",
    "table_data=pd.DataFrame()"
   ]
  },
  {
   "cell_type": "code",
   "execution_count": 12,
   "metadata": {},
   "outputs": [
    {
     "name": "stdout",
     "output_type": "stream",
     "text": [
      "Adding Data+Sc, 2019 to the Dataframe\n",
      "Data+Sc, 2019 added to the dataframe\n",
      "\n",
      "\n",
      "Adding Data+Sc, 2018 to the Dataframe\n",
      "Data+Sc, 2018 added to the dataframe\n",
      "\n",
      "\n",
      "Adding Data+Sc, 2017 to the Dataframe\n",
      "Data+Sc, 2017 added to the dataframe\n",
      "\n",
      "\n",
      "Adding Data+Sc, 2016 to the Dataframe\n",
      "Data+Sc, 2016 added to the dataframe\n",
      "\n",
      "\n",
      "Adding Data+Sc, 2015 to the Dataframe\n",
      "Data+Sc, 2015 added to the dataframe\n",
      "\n",
      "\n",
      "Adding Data+Ana, 2019 to the Dataframe\n",
      "Data+Ana, 2019 added to the dataframe\n",
      "\n",
      "\n",
      "Adding Data+Ana, 2018 to the Dataframe\n",
      "Data+Ana, 2018 added to the dataframe\n",
      "\n",
      "\n",
      "Adding Data+Ana, 2017 to the Dataframe\n",
      "Data+Ana, 2017 added to the dataframe\n",
      "\n",
      "\n",
      "Adding Data+Ana, 2016 to the Dataframe\n",
      "Data+Ana, 2016 added to the dataframe\n",
      "\n",
      "\n",
      "Adding Data+Ana, 2015 to the Dataframe\n",
      "Data+Ana, 2015 added to the dataframe\n",
      "\n",
      "\n",
      "Adding Business+Ana, 2019 to the Dataframe\n",
      "Business+Ana, 2019 added to the dataframe\n",
      "\n",
      "\n",
      "Adding Business+Ana, 2018 to the Dataframe\n",
      "Business+Ana, 2018 added to the dataframe\n",
      "\n",
      "\n",
      "Adding Business+Ana, 2017 to the Dataframe\n",
      "Business+Ana, 2017 added to the dataframe\n",
      "\n",
      "\n",
      "Adding Business+Ana, 2016 to the Dataframe\n",
      "Business+Ana, 2016 added to the dataframe\n",
      "\n",
      "\n",
      "Adding Business+Ana, 2015 to the Dataframe\n",
      "Business+Ana, 2015 added to the dataframe\n",
      "\n",
      "\n"
     ]
    }
   ],
   "source": [
    "for title in job_titles :\n",
    "    \n",
    "    for year in year_list :\n",
    "        print(\"Adding \"+title+\", \"+year+\" to the Dataframe\")\n",
    "    \n",
    "        file_name = title+\"_\"+year+\".htm\"\n",
    "        \n",
    "        ## Opening and reading the file\n",
    "        html_file = open(file_name, \"rb\")\n",
    "        \n",
    "        ## Saving the tables of the HTML file into a list\n",
    "        temp_table_list=pd.read_html(html_file)\n",
    "        \n",
    "        table_data = table_data.append(temp_table_list[0], ignore_index = True)\n",
    "        \n",
    "        print(title+\", \"+year+\" added to the dataframe\\n\\n\")"
   ]
  },
  {
   "cell_type": "code",
   "execution_count": 13,
   "metadata": {},
   "outputs": [
    {
     "data": {
      "text/html": [
       "<div>\n",
       "<style scoped>\n",
       "    .dataframe tbody tr th:only-of-type {\n",
       "        vertical-align: middle;\n",
       "    }\n",
       "\n",
       "    .dataframe tbody tr th {\n",
       "        vertical-align: top;\n",
       "    }\n",
       "\n",
       "    .dataframe thead th {\n",
       "        text-align: right;\n",
       "    }\n",
       "</style>\n",
       "<table border=\"1\" class=\"dataframe\">\n",
       "  <thead>\n",
       "    <tr style=\"text-align: right;\">\n",
       "      <th></th>\n",
       "      <th>EMPLOYER</th>\n",
       "      <th>JOB TITLE</th>\n",
       "      <th>BASE SALARY</th>\n",
       "      <th>LOCATION</th>\n",
       "      <th>SUBMIT DATE</th>\n",
       "      <th>START DATE</th>\n",
       "      <th>CASE STATUS</th>\n",
       "    </tr>\n",
       "  </thead>\n",
       "  <tbody>\n",
       "    <tr>\n",
       "      <td>0</td>\n",
       "      <td>SEGMENTIO INC</td>\n",
       "      <td>DATA SCIENCE</td>\n",
       "      <td>170000</td>\n",
       "      <td>SAN FRANCISCO, CA</td>\n",
       "      <td>04/23/2019</td>\n",
       "      <td>06/10/2019</td>\n",
       "      <td>CERTIFIED</td>\n",
       "    </tr>\n",
       "    <tr>\n",
       "      <td>1</td>\n",
       "      <td>BELK INC</td>\n",
       "      <td>DATA SCIENCE &amp; FORECAST ANALYST</td>\n",
       "      <td>82000</td>\n",
       "      <td>CHARLOTTE, NC</td>\n",
       "      <td>03/07/2019</td>\n",
       "      <td>09/03/2019</td>\n",
       "      <td>CERTIFIED</td>\n",
       "    </tr>\n",
       "    <tr>\n",
       "      <td>2</td>\n",
       "      <td>MICRON TECHNOLOGY INC</td>\n",
       "      <td>DATA SCIENCE &amp; PROCESS CONTROLS ENGINEERING PR...</td>\n",
       "      <td>88230</td>\n",
       "      <td>BOISE, ID</td>\n",
       "      <td>02/22/2019</td>\n",
       "      <td>08/22/2019</td>\n",
       "      <td>CERTIFIED</td>\n",
       "    </tr>\n",
       "    <tr>\n",
       "      <td>3</td>\n",
       "      <td>LIVE NATION WORLDWIDE INC</td>\n",
       "      <td>DATA SCIENCE - SENIOR ENGINEER</td>\n",
       "      <td>124738</td>\n",
       "      <td>HOLLYWOOD, CA</td>\n",
       "      <td>08/09/2019</td>\n",
       "      <td>09/04/2019</td>\n",
       "      <td>CERTIFIED</td>\n",
       "    </tr>\n",
       "    <tr>\n",
       "      <td>4</td>\n",
       "      <td>FEDEX CUSTOM CRITICAL INC</td>\n",
       "      <td>DATA SCIENCE ADVISOR</td>\n",
       "      <td>87000</td>\n",
       "      <td>UNIONTOWN, OH</td>\n",
       "      <td>03/13/2019</td>\n",
       "      <td>09/11/2019</td>\n",
       "      <td>CERTIFIED</td>\n",
       "    </tr>\n",
       "  </tbody>\n",
       "</table>\n",
       "</div>"
      ],
      "text/plain": [
       "                    EMPLOYER  \\\n",
       "0              SEGMENTIO INC   \n",
       "1                   BELK INC   \n",
       "2      MICRON TECHNOLOGY INC   \n",
       "3  LIVE NATION WORLDWIDE INC   \n",
       "4  FEDEX CUSTOM CRITICAL INC   \n",
       "\n",
       "                                           JOB TITLE  BASE SALARY  \\\n",
       "0                                       DATA SCIENCE       170000   \n",
       "1                    DATA SCIENCE & FORECAST ANALYST        82000   \n",
       "2  DATA SCIENCE & PROCESS CONTROLS ENGINEERING PR...        88230   \n",
       "3                     DATA SCIENCE - SENIOR ENGINEER       124738   \n",
       "4                               DATA SCIENCE ADVISOR        87000   \n",
       "\n",
       "            LOCATION SUBMIT DATE  START DATE CASE STATUS  \n",
       "0  SAN FRANCISCO, CA  04/23/2019  06/10/2019   CERTIFIED  \n",
       "1      CHARLOTTE, NC  03/07/2019  09/03/2019   CERTIFIED  \n",
       "2          BOISE, ID  02/22/2019  08/22/2019   CERTIFIED  \n",
       "3      HOLLYWOOD, CA  08/09/2019  09/04/2019   CERTIFIED  \n",
       "4      UNIONTOWN, OH  03/13/2019  09/11/2019   CERTIFIED  "
      ]
     },
     "execution_count": 13,
     "metadata": {},
     "output_type": "execute_result"
    }
   ],
   "source": [
    "table_data.head()"
   ]
  },
  {
   "cell_type": "code",
   "execution_count": 14,
   "metadata": {},
   "outputs": [
    {
     "data": {
      "text/plain": [
       "56038"
      ]
     },
     "execution_count": 14,
     "metadata": {},
     "output_type": "execute_result"
    }
   ],
   "source": [
    "len(table_data)"
   ]
  },
  {
   "cell_type": "code",
   "execution_count": 15,
   "metadata": {},
   "outputs": [
    {
     "data": {
      "text/plain": [
       "EMPLOYER       object\n",
       "JOB TITLE      object\n",
       "BASE SALARY     int64\n",
       "LOCATION       object\n",
       "SUBMIT DATE    object\n",
       "START DATE     object\n",
       "CASE STATUS    object\n",
       "dtype: object"
      ]
     },
     "execution_count": 15,
     "metadata": {},
     "output_type": "execute_result"
    }
   ],
   "source": [
    "table_data.dtypes"
   ]
  },
  {
   "cell_type": "code",
   "execution_count": 16,
   "metadata": {},
   "outputs": [
    {
     "data": {
      "text/html": [
       "<div>\n",
       "<style scoped>\n",
       "    .dataframe tbody tr th:only-of-type {\n",
       "        vertical-align: middle;\n",
       "    }\n",
       "\n",
       "    .dataframe tbody tr th {\n",
       "        vertical-align: top;\n",
       "    }\n",
       "\n",
       "    .dataframe thead th {\n",
       "        text-align: right;\n",
       "    }\n",
       "</style>\n",
       "<table border=\"1\" class=\"dataframe\">\n",
       "  <thead>\n",
       "    <tr style=\"text-align: right;\">\n",
       "      <th></th>\n",
       "      <th>EMPLOYER</th>\n",
       "      <th>JOB TITLE</th>\n",
       "      <th>BASE SALARY</th>\n",
       "      <th>LOCATION</th>\n",
       "      <th>SUBMIT DATE</th>\n",
       "      <th>START DATE</th>\n",
       "      <th>CASE STATUS</th>\n",
       "    </tr>\n",
       "  </thead>\n",
       "  <tbody>\n",
       "    <tr>\n",
       "      <td>56033</td>\n",
       "      <td>PHOTON INFOTECH INC</td>\n",
       "      <td>BUSINESS ANAYLST</td>\n",
       "      <td>61714</td>\n",
       "      <td>WHIPPANY, NJ</td>\n",
       "      <td>03/20/2015</td>\n",
       "      <td>09/01/2015</td>\n",
       "      <td>CERTIFIED</td>\n",
       "    </tr>\n",
       "    <tr>\n",
       "      <td>56034</td>\n",
       "      <td>DELOITTE CONSULTING LLP</td>\n",
       "      <td>BUSINESS ANAYLST</td>\n",
       "      <td>72000</td>\n",
       "      <td>WESTON, MA</td>\n",
       "      <td>02/19/2015</td>\n",
       "      <td>08/20/2015</td>\n",
       "      <td>CERTIFIED</td>\n",
       "    </tr>\n",
       "    <tr>\n",
       "      <td>56035</td>\n",
       "      <td>IBM INDIA PRIVATE LIMITED</td>\n",
       "      <td>BUSINESS ANAYLST</td>\n",
       "      <td>75504</td>\n",
       "      <td>PORTLAND, OR</td>\n",
       "      <td>02/19/2015</td>\n",
       "      <td>08/19/2015</td>\n",
       "      <td>CERTIFIED</td>\n",
       "    </tr>\n",
       "    <tr>\n",
       "      <td>56036</td>\n",
       "      <td>IBM INDIA PRIVATE LIMITED</td>\n",
       "      <td>BUSINESS ANAYLST</td>\n",
       "      <td>75504</td>\n",
       "      <td>PORTLAND, OR</td>\n",
       "      <td>02/24/2015</td>\n",
       "      <td>08/24/2015</td>\n",
       "      <td>CERTIFIED</td>\n",
       "    </tr>\n",
       "    <tr>\n",
       "      <td>56037</td>\n",
       "      <td>IBM INDIA PVT LTD</td>\n",
       "      <td>BUSINESS ANAYLST</td>\n",
       "      <td>75504</td>\n",
       "      <td>PORTLAND, OR</td>\n",
       "      <td>03/04/2015</td>\n",
       "      <td>09/03/2015</td>\n",
       "      <td>CERTIFIED</td>\n",
       "    </tr>\n",
       "  </tbody>\n",
       "</table>\n",
       "</div>"
      ],
      "text/plain": [
       "                        EMPLOYER         JOB TITLE  BASE SALARY      LOCATION  \\\n",
       "56033        PHOTON INFOTECH INC  BUSINESS ANAYLST        61714  WHIPPANY, NJ   \n",
       "56034    DELOITTE CONSULTING LLP  BUSINESS ANAYLST        72000    WESTON, MA   \n",
       "56035  IBM INDIA PRIVATE LIMITED  BUSINESS ANAYLST        75504  PORTLAND, OR   \n",
       "56036  IBM INDIA PRIVATE LIMITED  BUSINESS ANAYLST        75504  PORTLAND, OR   \n",
       "56037          IBM INDIA PVT LTD  BUSINESS ANAYLST        75504  PORTLAND, OR   \n",
       "\n",
       "      SUBMIT DATE  START DATE CASE STATUS  \n",
       "56033  03/20/2015  09/01/2015   CERTIFIED  \n",
       "56034  02/19/2015  08/20/2015   CERTIFIED  \n",
       "56035  02/19/2015  08/19/2015   CERTIFIED  \n",
       "56036  02/24/2015  08/24/2015   CERTIFIED  \n",
       "56037  03/04/2015  09/03/2015   CERTIFIED  "
      ]
     },
     "execution_count": 16,
     "metadata": {},
     "output_type": "execute_result"
    }
   ],
   "source": [
    "table_data.tail()"
   ]
  },
  {
   "cell_type": "code",
   "execution_count": 17,
   "metadata": {},
   "outputs": [
    {
     "data": {
      "text/plain": [
       "<bound method NDFrame.describe of                         EMPLOYER  \\\n",
       "0                  SEGMENTIO INC   \n",
       "1                       BELK INC   \n",
       "2          MICRON TECHNOLOGY INC   \n",
       "3      LIVE NATION WORLDWIDE INC   \n",
       "4      FEDEX CUSTOM CRITICAL INC   \n",
       "...                          ...   \n",
       "56033        PHOTON INFOTECH INC   \n",
       "56034    DELOITTE CONSULTING LLP   \n",
       "56035  IBM INDIA PRIVATE LIMITED   \n",
       "56036  IBM INDIA PRIVATE LIMITED   \n",
       "56037          IBM INDIA PVT LTD   \n",
       "\n",
       "                                               JOB TITLE  BASE SALARY  \\\n",
       "0                                           DATA SCIENCE       170000   \n",
       "1                        DATA SCIENCE & FORECAST ANALYST        82000   \n",
       "2      DATA SCIENCE & PROCESS CONTROLS ENGINEERING PR...        88230   \n",
       "3                         DATA SCIENCE - SENIOR ENGINEER       124738   \n",
       "4                                   DATA SCIENCE ADVISOR        87000   \n",
       "...                                                  ...          ...   \n",
       "56033                                   BUSINESS ANAYLST        61714   \n",
       "56034                                   BUSINESS ANAYLST        72000   \n",
       "56035                                   BUSINESS ANAYLST        75504   \n",
       "56036                                   BUSINESS ANAYLST        75504   \n",
       "56037                                   BUSINESS ANAYLST        75504   \n",
       "\n",
       "                LOCATION SUBMIT DATE  START DATE CASE STATUS  \n",
       "0      SAN FRANCISCO, CA  04/23/2019  06/10/2019   CERTIFIED  \n",
       "1          CHARLOTTE, NC  03/07/2019  09/03/2019   CERTIFIED  \n",
       "2              BOISE, ID  02/22/2019  08/22/2019   CERTIFIED  \n",
       "3          HOLLYWOOD, CA  08/09/2019  09/04/2019   CERTIFIED  \n",
       "4          UNIONTOWN, OH  03/13/2019  09/11/2019   CERTIFIED  \n",
       "...                  ...         ...         ...         ...  \n",
       "56033       WHIPPANY, NJ  03/20/2015  09/01/2015   CERTIFIED  \n",
       "56034         WESTON, MA  02/19/2015  08/20/2015   CERTIFIED  \n",
       "56035       PORTLAND, OR  02/19/2015  08/19/2015   CERTIFIED  \n",
       "56036       PORTLAND, OR  02/24/2015  08/24/2015   CERTIFIED  \n",
       "56037       PORTLAND, OR  03/04/2015  09/03/2015   CERTIFIED  \n",
       "\n",
       "[56038 rows x 7 columns]>"
      ]
     },
     "execution_count": 17,
     "metadata": {},
     "output_type": "execute_result"
    }
   ],
   "source": [
    "table_data.describe"
   ]
  },
  {
   "cell_type": "code",
   "execution_count": 18,
   "metadata": {},
   "outputs": [
    {
     "name": "stdout",
     "output_type": "stream",
     "text": [
      "<class 'pandas.core.frame.DataFrame'>\n",
      "RangeIndex: 56038 entries, 0 to 56037\n",
      "Data columns (total 7 columns):\n",
      "EMPLOYER       56037 non-null object\n",
      "JOB TITLE      56038 non-null object\n",
      "BASE SALARY    56038 non-null int64\n",
      "LOCATION       56038 non-null object\n",
      "SUBMIT DATE    56038 non-null object\n",
      "START DATE     56038 non-null object\n",
      "CASE STATUS    56038 non-null object\n",
      "dtypes: int64(1), object(6)\n",
      "memory usage: 3.0+ MB\n"
     ]
    }
   ],
   "source": [
    "table_data.info()"
   ]
  },
  {
   "cell_type": "code",
   "execution_count": 28,
   "metadata": {},
   "outputs": [
    {
     "data": {
      "text/html": [
       "<div>\n",
       "<style scoped>\n",
       "    .dataframe tbody tr th:only-of-type {\n",
       "        vertical-align: middle;\n",
       "    }\n",
       "\n",
       "    .dataframe tbody tr th {\n",
       "        vertical-align: top;\n",
       "    }\n",
       "\n",
       "    .dataframe thead th {\n",
       "        text-align: right;\n",
       "    }\n",
       "</style>\n",
       "<table border=\"1\" class=\"dataframe\">\n",
       "  <thead>\n",
       "    <tr style=\"text-align: right;\">\n",
       "      <th></th>\n",
       "      <th>EMPLOYER</th>\n",
       "      <th>JOB TITLE</th>\n",
       "      <th>BASE SALARY</th>\n",
       "      <th>LOCATION</th>\n",
       "      <th>SUBMIT DATE</th>\n",
       "      <th>START DATE</th>\n",
       "      <th>CASE STATUS</th>\n",
       "    </tr>\n",
       "  </thead>\n",
       "  <tbody>\n",
       "  </tbody>\n",
       "</table>\n",
       "</div>"
      ],
      "text/plain": [
       "Empty DataFrame\n",
       "Columns: [EMPLOYER, JOB TITLE, BASE SALARY, LOCATION, SUBMIT DATE, START DATE, CASE STATUS]\n",
       "Index: []"
      ]
     },
     "execution_count": 28,
     "metadata": {},
     "output_type": "execute_result"
    }
   ],
   "source": [
    "table_data.loc[table_data[\"EMPLOYER\"] == None]"
   ]
  },
  {
   "cell_type": "markdown",
   "metadata": {},
   "source": [
    "## Writing the Dataframe to Excel file - h1bdata.xlsx"
   ]
  },
  {
   "cell_type": "code",
   "execution_count": 29,
   "metadata": {},
   "outputs": [
    {
     "name": "stdout",
     "output_type": "stream",
     "text": [
      "DataFrame is written successfully to Excel File.\n"
     ]
    }
   ],
   "source": [
    "writer = pd.ExcelWriter('h1bdata.xlsx')\n",
    "table_data.to_excel(writer)\n",
    "writer.save()\n",
    "print('DataFrame is written successfully to Excel File.')"
   ]
  },
  {
   "cell_type": "markdown",
   "metadata": {},
   "source": [
    "### Code to read excel and then push it to MySQL\n",
    "\n",
    "#### Make changes to the password and username here in this code to push it to Excel"
   ]
  },
  {
   "cell_type": "code",
   "execution_count": 2,
   "metadata": {},
   "outputs": [],
   "source": [
    "h1b_data = pd.read_excel('h1bdata.xlsx')"
   ]
  },
  {
   "cell_type": "code",
   "execution_count": 4,
   "metadata": {},
   "outputs": [
    {
     "data": {
      "text/html": [
       "<div>\n",
       "<style scoped>\n",
       "    .dataframe tbody tr th:only-of-type {\n",
       "        vertical-align: middle;\n",
       "    }\n",
       "\n",
       "    .dataframe tbody tr th {\n",
       "        vertical-align: top;\n",
       "    }\n",
       "\n",
       "    .dataframe thead th {\n",
       "        text-align: right;\n",
       "    }\n",
       "</style>\n",
       "<table border=\"1\" class=\"dataframe\">\n",
       "  <thead>\n",
       "    <tr style=\"text-align: right;\">\n",
       "      <th></th>\n",
       "      <th>Sr.No.</th>\n",
       "      <th>EMPLOYER</th>\n",
       "      <th>JOB TITLE</th>\n",
       "      <th>BASE SALARY</th>\n",
       "      <th>LOCATION</th>\n",
       "      <th>SUBMIT DATE</th>\n",
       "      <th>START DATE</th>\n",
       "      <th>CASE STATUS</th>\n",
       "    </tr>\n",
       "  </thead>\n",
       "  <tbody>\n",
       "    <tr>\n",
       "      <td>0</td>\n",
       "      <td>1</td>\n",
       "      <td>SEGMENTIO INC</td>\n",
       "      <td>DATA SCIENCE</td>\n",
       "      <td>170000</td>\n",
       "      <td>SAN FRANCISCO, CA</td>\n",
       "      <td>04/23/2019</td>\n",
       "      <td>06/10/2019</td>\n",
       "      <td>CERTIFIED</td>\n",
       "    </tr>\n",
       "    <tr>\n",
       "      <td>1</td>\n",
       "      <td>2</td>\n",
       "      <td>BELK INC</td>\n",
       "      <td>DATA SCIENCE &amp; FORECAST ANALYST</td>\n",
       "      <td>82000</td>\n",
       "      <td>CHARLOTTE, NC</td>\n",
       "      <td>03/07/2019</td>\n",
       "      <td>09/03/2019</td>\n",
       "      <td>CERTIFIED</td>\n",
       "    </tr>\n",
       "    <tr>\n",
       "      <td>2</td>\n",
       "      <td>3</td>\n",
       "      <td>MICRON TECHNOLOGY INC</td>\n",
       "      <td>DATA SCIENCE &amp; PROCESS CONTROLS ENGINEERING PR...</td>\n",
       "      <td>88230</td>\n",
       "      <td>BOISE, ID</td>\n",
       "      <td>02/22/2019</td>\n",
       "      <td>08/22/2019</td>\n",
       "      <td>CERTIFIED</td>\n",
       "    </tr>\n",
       "    <tr>\n",
       "      <td>3</td>\n",
       "      <td>4</td>\n",
       "      <td>LIVE NATION WORLDWIDE INC</td>\n",
       "      <td>DATA SCIENCE - SENIOR ENGINEER</td>\n",
       "      <td>124738</td>\n",
       "      <td>HOLLYWOOD, CA</td>\n",
       "      <td>08/09/2019</td>\n",
       "      <td>09/04/2019</td>\n",
       "      <td>CERTIFIED</td>\n",
       "    </tr>\n",
       "    <tr>\n",
       "      <td>4</td>\n",
       "      <td>5</td>\n",
       "      <td>FEDEX CUSTOM CRITICAL INC</td>\n",
       "      <td>DATA SCIENCE ADVISOR</td>\n",
       "      <td>87000</td>\n",
       "      <td>UNIONTOWN, OH</td>\n",
       "      <td>03/13/2019</td>\n",
       "      <td>09/11/2019</td>\n",
       "      <td>CERTIFIED</td>\n",
       "    </tr>\n",
       "  </tbody>\n",
       "</table>\n",
       "</div>"
      ],
      "text/plain": [
       "   Sr.No.                   EMPLOYER  \\\n",
       "0       1              SEGMENTIO INC   \n",
       "1       2                   BELK INC   \n",
       "2       3      MICRON TECHNOLOGY INC   \n",
       "3       4  LIVE NATION WORLDWIDE INC   \n",
       "4       5  FEDEX CUSTOM CRITICAL INC   \n",
       "\n",
       "                                           JOB TITLE  BASE SALARY  \\\n",
       "0                                       DATA SCIENCE       170000   \n",
       "1                    DATA SCIENCE & FORECAST ANALYST        82000   \n",
       "2  DATA SCIENCE & PROCESS CONTROLS ENGINEERING PR...        88230   \n",
       "3                     DATA SCIENCE - SENIOR ENGINEER       124738   \n",
       "4                               DATA SCIENCE ADVISOR        87000   \n",
       "\n",
       "            LOCATION SUBMIT DATE  START DATE CASE STATUS  \n",
       "0  SAN FRANCISCO, CA  04/23/2019  06/10/2019   CERTIFIED  \n",
       "1      CHARLOTTE, NC  03/07/2019  09/03/2019   CERTIFIED  \n",
       "2          BOISE, ID  02/22/2019  08/22/2019   CERTIFIED  \n",
       "3      HOLLYWOOD, CA  08/09/2019  09/04/2019   CERTIFIED  \n",
       "4      UNIONTOWN, OH  03/13/2019  09/11/2019   CERTIFIED  "
      ]
     },
     "execution_count": 4,
     "metadata": {},
     "output_type": "execute_result"
    }
   ],
   "source": [
    "h1b_data.head()"
   ]
  },
  {
   "cell_type": "code",
   "execution_count": 6,
   "metadata": {},
   "outputs": [],
   "source": [
    "h1b_data.drop(['Sr.No.'], axis = 1, inplace = True)"
   ]
  },
  {
   "cell_type": "code",
   "execution_count": 7,
   "metadata": {},
   "outputs": [
    {
     "data": {
      "text/html": [
       "<div>\n",
       "<style scoped>\n",
       "    .dataframe tbody tr th:only-of-type {\n",
       "        vertical-align: middle;\n",
       "    }\n",
       "\n",
       "    .dataframe tbody tr th {\n",
       "        vertical-align: top;\n",
       "    }\n",
       "\n",
       "    .dataframe thead th {\n",
       "        text-align: right;\n",
       "    }\n",
       "</style>\n",
       "<table border=\"1\" class=\"dataframe\">\n",
       "  <thead>\n",
       "    <tr style=\"text-align: right;\">\n",
       "      <th></th>\n",
       "      <th>EMPLOYER</th>\n",
       "      <th>JOB TITLE</th>\n",
       "      <th>BASE SALARY</th>\n",
       "      <th>LOCATION</th>\n",
       "      <th>SUBMIT DATE</th>\n",
       "      <th>START DATE</th>\n",
       "      <th>CASE STATUS</th>\n",
       "    </tr>\n",
       "  </thead>\n",
       "  <tbody>\n",
       "    <tr>\n",
       "      <td>0</td>\n",
       "      <td>SEGMENTIO INC</td>\n",
       "      <td>DATA SCIENCE</td>\n",
       "      <td>170000</td>\n",
       "      <td>SAN FRANCISCO, CA</td>\n",
       "      <td>04/23/2019</td>\n",
       "      <td>06/10/2019</td>\n",
       "      <td>CERTIFIED</td>\n",
       "    </tr>\n",
       "    <tr>\n",
       "      <td>1</td>\n",
       "      <td>BELK INC</td>\n",
       "      <td>DATA SCIENCE &amp; FORECAST ANALYST</td>\n",
       "      <td>82000</td>\n",
       "      <td>CHARLOTTE, NC</td>\n",
       "      <td>03/07/2019</td>\n",
       "      <td>09/03/2019</td>\n",
       "      <td>CERTIFIED</td>\n",
       "    </tr>\n",
       "    <tr>\n",
       "      <td>2</td>\n",
       "      <td>MICRON TECHNOLOGY INC</td>\n",
       "      <td>DATA SCIENCE &amp; PROCESS CONTROLS ENGINEERING PR...</td>\n",
       "      <td>88230</td>\n",
       "      <td>BOISE, ID</td>\n",
       "      <td>02/22/2019</td>\n",
       "      <td>08/22/2019</td>\n",
       "      <td>CERTIFIED</td>\n",
       "    </tr>\n",
       "    <tr>\n",
       "      <td>3</td>\n",
       "      <td>LIVE NATION WORLDWIDE INC</td>\n",
       "      <td>DATA SCIENCE - SENIOR ENGINEER</td>\n",
       "      <td>124738</td>\n",
       "      <td>HOLLYWOOD, CA</td>\n",
       "      <td>08/09/2019</td>\n",
       "      <td>09/04/2019</td>\n",
       "      <td>CERTIFIED</td>\n",
       "    </tr>\n",
       "    <tr>\n",
       "      <td>4</td>\n",
       "      <td>FEDEX CUSTOM CRITICAL INC</td>\n",
       "      <td>DATA SCIENCE ADVISOR</td>\n",
       "      <td>87000</td>\n",
       "      <td>UNIONTOWN, OH</td>\n",
       "      <td>03/13/2019</td>\n",
       "      <td>09/11/2019</td>\n",
       "      <td>CERTIFIED</td>\n",
       "    </tr>\n",
       "  </tbody>\n",
       "</table>\n",
       "</div>"
      ],
      "text/plain": [
       "                    EMPLOYER  \\\n",
       "0              SEGMENTIO INC   \n",
       "1                   BELK INC   \n",
       "2      MICRON TECHNOLOGY INC   \n",
       "3  LIVE NATION WORLDWIDE INC   \n",
       "4  FEDEX CUSTOM CRITICAL INC   \n",
       "\n",
       "                                           JOB TITLE  BASE SALARY  \\\n",
       "0                                       DATA SCIENCE       170000   \n",
       "1                    DATA SCIENCE & FORECAST ANALYST        82000   \n",
       "2  DATA SCIENCE & PROCESS CONTROLS ENGINEERING PR...        88230   \n",
       "3                     DATA SCIENCE - SENIOR ENGINEER       124738   \n",
       "4                               DATA SCIENCE ADVISOR        87000   \n",
       "\n",
       "            LOCATION SUBMIT DATE  START DATE CASE STATUS  \n",
       "0  SAN FRANCISCO, CA  04/23/2019  06/10/2019   CERTIFIED  \n",
       "1      CHARLOTTE, NC  03/07/2019  09/03/2019   CERTIFIED  \n",
       "2          BOISE, ID  02/22/2019  08/22/2019   CERTIFIED  \n",
       "3      HOLLYWOOD, CA  08/09/2019  09/04/2019   CERTIFIED  \n",
       "4      UNIONTOWN, OH  03/13/2019  09/11/2019   CERTIFIED  "
      ]
     },
     "execution_count": 7,
     "metadata": {},
     "output_type": "execute_result"
    }
   ],
   "source": [
    "h1b_data.head()"
   ]
  },
  {
   "cell_type": "code",
   "execution_count": 8,
   "metadata": {},
   "outputs": [],
   "source": [
    "h1b_data['SUBMIT DATE'] = pd.to_datetime(h1b_data['SUBMIT DATE'])"
   ]
  },
  {
   "cell_type": "code",
   "execution_count": 9,
   "metadata": {},
   "outputs": [],
   "source": [
    "h1b_data['START DATE'] = pd.to_datetime(h1b_data['START DATE'])"
   ]
  },
  {
   "cell_type": "code",
   "execution_count": 10,
   "metadata": {},
   "outputs": [
    {
     "name": "stdout",
     "output_type": "stream",
     "text": [
      "<class 'pandas.core.frame.DataFrame'>\n",
      "RangeIndex: 56038 entries, 0 to 56037\n",
      "Data columns (total 7 columns):\n",
      "EMPLOYER       56037 non-null object\n",
      "JOB TITLE      56038 non-null object\n",
      "BASE SALARY    56038 non-null int64\n",
      "LOCATION       56038 non-null object\n",
      "SUBMIT DATE    56038 non-null datetime64[ns]\n",
      "START DATE     56038 non-null datetime64[ns]\n",
      "CASE STATUS    56038 non-null object\n",
      "dtypes: datetime64[ns](2), int64(1), object(4)\n",
      "memory usage: 3.0+ MB\n"
     ]
    }
   ],
   "source": [
    "h1b_data.info()"
   ]
  },
  {
   "cell_type": "code",
   "execution_count": 11,
   "metadata": {},
   "outputs": [
    {
     "data": {
      "text/html": [
       "<div>\n",
       "<style scoped>\n",
       "    .dataframe tbody tr th:only-of-type {\n",
       "        vertical-align: middle;\n",
       "    }\n",
       "\n",
       "    .dataframe tbody tr th {\n",
       "        vertical-align: top;\n",
       "    }\n",
       "\n",
       "    .dataframe thead th {\n",
       "        text-align: right;\n",
       "    }\n",
       "</style>\n",
       "<table border=\"1\" class=\"dataframe\">\n",
       "  <thead>\n",
       "    <tr style=\"text-align: right;\">\n",
       "      <th></th>\n",
       "      <th>EMPLOYER</th>\n",
       "      <th>JOB TITLE</th>\n",
       "      <th>BASE SALARY</th>\n",
       "      <th>LOCATION</th>\n",
       "      <th>SUBMIT DATE</th>\n",
       "      <th>START DATE</th>\n",
       "      <th>CASE STATUS</th>\n",
       "    </tr>\n",
       "  </thead>\n",
       "  <tbody>\n",
       "    <tr>\n",
       "      <td>0</td>\n",
       "      <td>SEGMENTIO INC</td>\n",
       "      <td>DATA SCIENCE</td>\n",
       "      <td>170000</td>\n",
       "      <td>SAN FRANCISCO, CA</td>\n",
       "      <td>2019-04-23</td>\n",
       "      <td>2019-06-10</td>\n",
       "      <td>CERTIFIED</td>\n",
       "    </tr>\n",
       "    <tr>\n",
       "      <td>1</td>\n",
       "      <td>BELK INC</td>\n",
       "      <td>DATA SCIENCE &amp; FORECAST ANALYST</td>\n",
       "      <td>82000</td>\n",
       "      <td>CHARLOTTE, NC</td>\n",
       "      <td>2019-03-07</td>\n",
       "      <td>2019-09-03</td>\n",
       "      <td>CERTIFIED</td>\n",
       "    </tr>\n",
       "    <tr>\n",
       "      <td>2</td>\n",
       "      <td>MICRON TECHNOLOGY INC</td>\n",
       "      <td>DATA SCIENCE &amp; PROCESS CONTROLS ENGINEERING PR...</td>\n",
       "      <td>88230</td>\n",
       "      <td>BOISE, ID</td>\n",
       "      <td>2019-02-22</td>\n",
       "      <td>2019-08-22</td>\n",
       "      <td>CERTIFIED</td>\n",
       "    </tr>\n",
       "    <tr>\n",
       "      <td>3</td>\n",
       "      <td>LIVE NATION WORLDWIDE INC</td>\n",
       "      <td>DATA SCIENCE - SENIOR ENGINEER</td>\n",
       "      <td>124738</td>\n",
       "      <td>HOLLYWOOD, CA</td>\n",
       "      <td>2019-08-09</td>\n",
       "      <td>2019-09-04</td>\n",
       "      <td>CERTIFIED</td>\n",
       "    </tr>\n",
       "    <tr>\n",
       "      <td>4</td>\n",
       "      <td>FEDEX CUSTOM CRITICAL INC</td>\n",
       "      <td>DATA SCIENCE ADVISOR</td>\n",
       "      <td>87000</td>\n",
       "      <td>UNIONTOWN, OH</td>\n",
       "      <td>2019-03-13</td>\n",
       "      <td>2019-09-11</td>\n",
       "      <td>CERTIFIED</td>\n",
       "    </tr>\n",
       "  </tbody>\n",
       "</table>\n",
       "</div>"
      ],
      "text/plain": [
       "                    EMPLOYER  \\\n",
       "0              SEGMENTIO INC   \n",
       "1                   BELK INC   \n",
       "2      MICRON TECHNOLOGY INC   \n",
       "3  LIVE NATION WORLDWIDE INC   \n",
       "4  FEDEX CUSTOM CRITICAL INC   \n",
       "\n",
       "                                           JOB TITLE  BASE SALARY  \\\n",
       "0                                       DATA SCIENCE       170000   \n",
       "1                    DATA SCIENCE & FORECAST ANALYST        82000   \n",
       "2  DATA SCIENCE & PROCESS CONTROLS ENGINEERING PR...        88230   \n",
       "3                     DATA SCIENCE - SENIOR ENGINEER       124738   \n",
       "4                               DATA SCIENCE ADVISOR        87000   \n",
       "\n",
       "            LOCATION SUBMIT DATE START DATE CASE STATUS  \n",
       "0  SAN FRANCISCO, CA  2019-04-23 2019-06-10   CERTIFIED  \n",
       "1      CHARLOTTE, NC  2019-03-07 2019-09-03   CERTIFIED  \n",
       "2          BOISE, ID  2019-02-22 2019-08-22   CERTIFIED  \n",
       "3      HOLLYWOOD, CA  2019-08-09 2019-09-04   CERTIFIED  \n",
       "4      UNIONTOWN, OH  2019-03-13 2019-09-11   CERTIFIED  "
      ]
     },
     "execution_count": 11,
     "metadata": {},
     "output_type": "execute_result"
    }
   ],
   "source": [
    "h1b_data.head()"
   ]
  },
  {
   "cell_type": "markdown",
   "metadata": {},
   "source": [
    "### Creating a connection to MySQL and creating a database called \"h1b_SQL\""
   ]
  },
  {
   "cell_type": "code",
   "execution_count": 21,
   "metadata": {},
   "outputs": [
    {
     "data": {
      "text/plain": [
       "<bound method MySQLConnection.close of <mysql.connector.connection.MySQLConnection object at 0x0000021593B6F948>>"
      ]
     },
     "execution_count": 21,
     "metadata": {},
     "output_type": "execute_result"
    }
   ],
   "source": [
    "mydb = mysql.connector.connect(\n",
    "    host=\"localhost\",\n",
    "    user=\"\",\n",
    "    passwd=\"\"\n",
    ")\n",
    "\n",
    "mycursor = mydb.cursor()\n",
    "\n",
    "mycursor.execute(\"CREATE DATABASE IF NOT EXISTS h1b_sql\")\n",
    "\n",
    "mycursor.close()\n",
    "\n",
    "mydb.close"
   ]
  },
  {
   "cell_type": "markdown",
   "metadata": {},
   "source": [
    "### Creating a connection to MySQL and creating a table called \"h1b_data\""
   ]
  },
  {
   "cell_type": "code",
   "execution_count": 22,
   "metadata": {},
   "outputs": [
    {
     "data": {
      "text/plain": [
       "<bound method MySQLConnection.close of <mysql.connector.connection.MySQLConnection object at 0x0000021593B6FEC8>>"
      ]
     },
     "execution_count": 22,
     "metadata": {},
     "output_type": "execute_result"
    }
   ],
   "source": [
    "mydb = mysql.connector.connect(\n",
    "    host=\"localhost\",\n",
    "    user=\"\",\n",
    "    passwd=\"\",\n",
    "    database=\"h1b_sql\"\n",
    ")\n",
    "\n",
    "mycursor = mydb.cursor()\n",
    "\n",
    "mycursor.execute(\"CREATE TABLE IF NOT EXISTS h1b_data (DataID int NOT NULL AUTO_INCREMENT PRIMARY KEY , EMPLOYER VARCHAR(50), JOB_TITLE VARCHAR(100), BASE_SALARY BIGINT, LOCATION VARCHAR(100), SUBMIT_DATE DATE, START_DATE DATE,CASE_STATUS VARCHAR(30));\")\n",
    "\n",
    "mycursor.close()\n",
    "\n",
    "mydb.close"
   ]
  },
  {
   "cell_type": "code",
   "execution_count": 23,
   "metadata": {},
   "outputs": [],
   "source": [
    "engine = create_engine('mysql+pymysql://root:My1234SQL!@#$@localhost/h1b_sql')"
   ]
  },
  {
   "cell_type": "code",
   "execution_count": 24,
   "metadata": {},
   "outputs": [],
   "source": [
    "dbConnection = engine.connect()"
   ]
  },
  {
   "cell_type": "code",
   "execution_count": 25,
   "metadata": {},
   "outputs": [],
   "source": [
    "h1b_data.to_sql('h1b_data', dbConnection, index = True, if_exists='replace')"
   ]
  },
  {
   "cell_type": "code",
   "execution_count": 26,
   "metadata": {},
   "outputs": [],
   "source": [
    "results = pd.read_sql(\"select * from h1b_data\", dbConnection);"
   ]
  },
  {
   "cell_type": "code",
   "execution_count": 27,
   "metadata": {},
   "outputs": [],
   "source": [
    "pd.set_option('display.expand_frame_repr', False)\n",
    "dbConnection.close()"
   ]
  },
  {
   "cell_type": "code",
   "execution_count": 28,
   "metadata": {},
   "outputs": [
    {
     "data": {
      "text/html": [
       "<div>\n",
       "<style scoped>\n",
       "    .dataframe tbody tr th:only-of-type {\n",
       "        vertical-align: middle;\n",
       "    }\n",
       "\n",
       "    .dataframe tbody tr th {\n",
       "        vertical-align: top;\n",
       "    }\n",
       "\n",
       "    .dataframe thead th {\n",
       "        text-align: right;\n",
       "    }\n",
       "</style>\n",
       "<table border=\"1\" class=\"dataframe\">\n",
       "  <thead>\n",
       "    <tr style=\"text-align: right;\">\n",
       "      <th></th>\n",
       "      <th>index</th>\n",
       "      <th>EMPLOYER</th>\n",
       "      <th>JOB TITLE</th>\n",
       "      <th>BASE SALARY</th>\n",
       "      <th>LOCATION</th>\n",
       "      <th>SUBMIT DATE</th>\n",
       "      <th>START DATE</th>\n",
       "      <th>CASE STATUS</th>\n",
       "    </tr>\n",
       "  </thead>\n",
       "  <tbody>\n",
       "    <tr>\n",
       "      <td>0</td>\n",
       "      <td>0</td>\n",
       "      <td>SEGMENTIO INC</td>\n",
       "      <td>DATA SCIENCE</td>\n",
       "      <td>170000</td>\n",
       "      <td>SAN FRANCISCO, CA</td>\n",
       "      <td>2019-04-23</td>\n",
       "      <td>2019-06-10</td>\n",
       "      <td>CERTIFIED</td>\n",
       "    </tr>\n",
       "    <tr>\n",
       "      <td>1</td>\n",
       "      <td>1</td>\n",
       "      <td>BELK INC</td>\n",
       "      <td>DATA SCIENCE &amp; FORECAST ANALYST</td>\n",
       "      <td>82000</td>\n",
       "      <td>CHARLOTTE, NC</td>\n",
       "      <td>2019-03-07</td>\n",
       "      <td>2019-09-03</td>\n",
       "      <td>CERTIFIED</td>\n",
       "    </tr>\n",
       "    <tr>\n",
       "      <td>2</td>\n",
       "      <td>2</td>\n",
       "      <td>MICRON TECHNOLOGY INC</td>\n",
       "      <td>DATA SCIENCE &amp; PROCESS CONTROLS ENGINEERING PR...</td>\n",
       "      <td>88230</td>\n",
       "      <td>BOISE, ID</td>\n",
       "      <td>2019-02-22</td>\n",
       "      <td>2019-08-22</td>\n",
       "      <td>CERTIFIED</td>\n",
       "    </tr>\n",
       "    <tr>\n",
       "      <td>3</td>\n",
       "      <td>3</td>\n",
       "      <td>LIVE NATION WORLDWIDE INC</td>\n",
       "      <td>DATA SCIENCE - SENIOR ENGINEER</td>\n",
       "      <td>124738</td>\n",
       "      <td>HOLLYWOOD, CA</td>\n",
       "      <td>2019-08-09</td>\n",
       "      <td>2019-09-04</td>\n",
       "      <td>CERTIFIED</td>\n",
       "    </tr>\n",
       "    <tr>\n",
       "      <td>4</td>\n",
       "      <td>4</td>\n",
       "      <td>FEDEX CUSTOM CRITICAL INC</td>\n",
       "      <td>DATA SCIENCE ADVISOR</td>\n",
       "      <td>87000</td>\n",
       "      <td>UNIONTOWN, OH</td>\n",
       "      <td>2019-03-13</td>\n",
       "      <td>2019-09-11</td>\n",
       "      <td>CERTIFIED</td>\n",
       "    </tr>\n",
       "  </tbody>\n",
       "</table>\n",
       "</div>"
      ],
      "text/plain": [
       "   index                   EMPLOYER                                          JOB TITLE  BASE SALARY           LOCATION SUBMIT DATE START DATE CASE STATUS\n",
       "0      0              SEGMENTIO INC                                       DATA SCIENCE       170000  SAN FRANCISCO, CA  2019-04-23 2019-06-10   CERTIFIED\n",
       "1      1                   BELK INC                    DATA SCIENCE & FORECAST ANALYST        82000      CHARLOTTE, NC  2019-03-07 2019-09-03   CERTIFIED\n",
       "2      2      MICRON TECHNOLOGY INC  DATA SCIENCE & PROCESS CONTROLS ENGINEERING PR...        88230          BOISE, ID  2019-02-22 2019-08-22   CERTIFIED\n",
       "3      3  LIVE NATION WORLDWIDE INC                     DATA SCIENCE - SENIOR ENGINEER       124738      HOLLYWOOD, CA  2019-08-09 2019-09-04   CERTIFIED\n",
       "4      4  FEDEX CUSTOM CRITICAL INC                               DATA SCIENCE ADVISOR        87000      UNIONTOWN, OH  2019-03-13 2019-09-11   CERTIFIED"
      ]
     },
     "execution_count": 28,
     "metadata": {},
     "output_type": "execute_result"
    }
   ],
   "source": [
    "results.head()"
   ]
  }
 ],
 "metadata": {
  "kernelspec": {
   "display_name": "Python 3",
   "language": "python",
   "name": "python3"
  },
  "language_info": {
   "codemirror_mode": {
    "name": "ipython",
    "version": 3
   },
   "file_extension": ".py",
   "mimetype": "text/x-python",
   "name": "python",
   "nbconvert_exporter": "python",
   "pygments_lexer": "ipython3",
   "version": "3.7.4"
  }
 },
 "nbformat": 4,
 "nbformat_minor": 2
}
